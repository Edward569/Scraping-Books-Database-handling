{
 "cells": [
  {
   "cell_type": "code",
   "execution_count": 1,
   "metadata": {},
   "outputs": [],
   "source": [
    "from bs4 import BeautifulSoup as bs4\n",
    "import requests\n",
    "import pandas as pd"
   ]
  },
  {
   "cell_type": "code",
   "execution_count": 3,
   "metadata": {},
   "outputs": [],
   "source": [
    "pages=[]\n",
    "prices=[]\n",
    "stars=[]\n",
    "titles=[]\n",
    "urlss=[]\n",
    "\n",
    "pages_to_scrape=1\n",
    "\n",
    "for i in range(1,pages_to_scrape+1):\n",
    "    url = ('http://books.toscrape.com/catalogue/page-{}.html').format(i)\n",
    "    pages.append(url)"
   ]
  },
  {
   "cell_type": "code",
   "execution_count": 4,
   "metadata": {},
   "outputs": [],
   "source": [
    "for item in pages:\n",
    "    page = requests.get(item)\n",
    "    soup = bs4(page.text, 'html.parser')"
   ]
  },
  {
   "cell_type": "code",
   "execution_count": 5,
   "metadata": {},
   "outputs": [],
   "source": [
    "for i in soup.findAll('h3'):\n",
    "        ttl=i.getText()\n",
    "        titles.append(ttl)\n",
    "for j in soup.findAll('p', class_='price_color'):\n",
    "        price=j.getText()\n",
    "        prices.append(price)\n",
    "for s in soup.findAll('p', class_='star-rating'):\n",
    "    for k,v in s.attrs.items():\n",
    "            star =v[1]\n",
    "            stars.append(star)\n",
    "divs =soup.findAll('div', class_='image_container')\n",
    "for thumbs in divs:\n",
    "        tgs=thumbs.find('img',class_='thumbnail')\n",
    "        urls='http://books.toscrape.com/'+str(tgs['src'])\n",
    "        newurls=urls.replace(\"../\",\"\")\n",
    "        urlss.append(newurls)"
   ]
  },
  {
   "cell_type": "code",
   "execution_count": 6,
   "metadata": {},
   "outputs": [],
   "source": [
    "data={'Title': titles, 'Prices': prices, 'Stars':stars, \"URLs\":urlss}\n"
   ]
  },
  {
   "cell_type": "code",
   "execution_count": 8,
   "metadata": {},
   "outputs": [
    {
     "data": {
      "text/plain": [
       "{'Title': ['A Light in the ...',\n",
       "  'Tipping the Velvet',\n",
       "  'Soumission',\n",
       "  'Sharp Objects',\n",
       "  'Sapiens: A Brief History ...',\n",
       "  'The Requiem Red',\n",
       "  'The Dirty Little Secrets ...',\n",
       "  'The Coming Woman: A ...',\n",
       "  'The Boys in the ...',\n",
       "  'The Black Maria',\n",
       "  'Starving Hearts (Triangular Trade ...',\n",
       "  \"Shakespeare's Sonnets\",\n",
       "  'Set Me Free',\n",
       "  \"Scott Pilgrim's Precious Little ...\",\n",
       "  'Rip it Up and ...',\n",
       "  'Our Band Could Be ...',\n",
       "  'Olio',\n",
       "  'Mesaerion: The Best Science ...',\n",
       "  'Libertarianism for Beginners',\n",
       "  \"It's Only the Himalayas\"],\n",
       " 'Prices': ['Â£51.77',\n",
       "  'Â£53.74',\n",
       "  'Â£50.10',\n",
       "  'Â£47.82',\n",
       "  'Â£54.23',\n",
       "  'Â£22.65',\n",
       "  'Â£33.34',\n",
       "  'Â£17.93',\n",
       "  'Â£22.60',\n",
       "  'Â£52.15',\n",
       "  'Â£13.99',\n",
       "  'Â£20.66',\n",
       "  'Â£17.46',\n",
       "  'Â£52.29',\n",
       "  'Â£35.02',\n",
       "  'Â£57.25',\n",
       "  'Â£23.88',\n",
       "  'Â£37.59',\n",
       "  'Â£51.33',\n",
       "  'Â£45.17'],\n",
       " 'Stars': ['Three',\n",
       "  'One',\n",
       "  'One',\n",
       "  'Four',\n",
       "  'Five',\n",
       "  'One',\n",
       "  'Four',\n",
       "  'Three',\n",
       "  'Four',\n",
       "  'One',\n",
       "  'Two',\n",
       "  'Four',\n",
       "  'Five',\n",
       "  'Five',\n",
       "  'Five',\n",
       "  'Three',\n",
       "  'One',\n",
       "  'One',\n",
       "  'Two',\n",
       "  'Two'],\n",
       " 'URLs': ['http://books.toscrape.com/media/cache/2c/da/2cdad67c44b002e7ead0cc35693c0e8b.jpg',\n",
       "  'http://books.toscrape.com/media/cache/26/0c/260c6ae16bce31c8f8c95daddd9f4a1c.jpg',\n",
       "  'http://books.toscrape.com/media/cache/3e/ef/3eef99c9d9adef34639f510662022830.jpg',\n",
       "  'http://books.toscrape.com/media/cache/32/51/3251cf3a3412f53f339e42cac2134093.jpg',\n",
       "  'http://books.toscrape.com/media/cache/be/a5/bea5697f2534a2f86a3ef27b5a8c12a6.jpg',\n",
       "  'http://books.toscrape.com/media/cache/68/33/68339b4c9bc034267e1da611ab3b34f8.jpg',\n",
       "  'http://books.toscrape.com/media/cache/92/27/92274a95b7c251fea59a2b8a78275ab4.jpg',\n",
       "  'http://books.toscrape.com/media/cache/3d/54/3d54940e57e662c4dd1f3ff00c78cc64.jpg',\n",
       "  'http://books.toscrape.com/media/cache/66/88/66883b91f6804b2323c8369331cb7dd1.jpg',\n",
       "  'http://books.toscrape.com/media/cache/58/46/5846057e28022268153beff6d352b06c.jpg',\n",
       "  'http://books.toscrape.com/media/cache/be/f4/bef44da28c98f905a3ebec0b87be8530.jpg',\n",
       "  'http://books.toscrape.com/media/cache/10/48/1048f63d3b5061cd2f424d20b3f9b666.jpg',\n",
       "  'http://books.toscrape.com/media/cache/5b/88/5b88c52633f53cacf162c15f4f823153.jpg',\n",
       "  'http://books.toscrape.com/media/cache/94/b1/94b1b8b244bce9677c2f29ccc890d4d2.jpg',\n",
       "  'http://books.toscrape.com/media/cache/81/c4/81c4a973364e17d01f217e1188253d5e.jpg',\n",
       "  'http://books.toscrape.com/media/cache/54/60/54607fe8945897cdcced0044103b10b6.jpg',\n",
       "  'http://books.toscrape.com/media/cache/55/33/553310a7162dfbc2c6d19a84da0df9e1.jpg',\n",
       "  'http://books.toscrape.com/media/cache/09/a3/09a3aef48557576e1a85ba7efea8ecb7.jpg',\n",
       "  'http://books.toscrape.com/media/cache/0b/bc/0bbcd0a6f4bcd81ccb1049a52736406e.jpg',\n",
       "  'http://books.toscrape.com/media/cache/27/a5/27a53d0bb95bdd88288eaf66c9230d7e.jpg']}"
      ]
     },
     "execution_count": 8,
     "metadata": {},
     "output_type": "execute_result"
    }
   ],
   "source": [
    "df=pd.DataFrame(data=data)\n",
    "data"
   ]
  },
  {
   "cell_type": "code",
   "execution_count": 9,
   "metadata": {},
   "outputs": [],
   "source": [
    "df.index+=1\n"
   ]
  },
  {
   "cell_type": "code",
   "execution_count": 10,
   "metadata": {},
   "outputs": [],
   "source": [
    "df.to_excel(\"Req_data.xlsx\")\n"
   ]
  },
  {
   "cell_type": "code",
   "execution_count": null,
   "metadata": {},
   "outputs": [],
   "source": []
  }
 ],
 "metadata": {
  "kernelspec": {
   "display_name": "Python 3",
   "language": "python",
   "name": "python3"
  },
  "language_info": {
   "codemirror_mode": {
    "name": "ipython",
    "version": 3
   },
   "file_extension": ".py",
   "mimetype": "text/x-python",
   "name": "python",
   "nbconvert_exporter": "python",
   "pygments_lexer": "ipython3",
   "version": "3.7.6"
  }
 },
 "nbformat": 4,
 "nbformat_minor": 4
}
